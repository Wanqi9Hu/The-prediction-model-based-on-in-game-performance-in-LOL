{
 "cells": [
  {
   "cell_type": "code",
   "execution_count": 1,
   "metadata": {},
   "outputs": [],
   "source": [
    "import pandas as pd\n",
    "import numpy as np\n",
    "import matplotlib.pyplot as plt\n",
    "import sklearn\n",
    "import pycaret"
   ]
  },
  {
   "cell_type": "code",
   "execution_count": 2,
   "metadata": {},
   "outputs": [
    {
     "data": {
      "text/plain": [
       "0.7815793746054454"
      ]
     },
     "execution_count": 2,
     "metadata": {},
     "output_type": "execute_result"
    }
   ],
   "source": [
    "a=pd.read_csv('match_loser_data_version1.csv',converters={'gameId':str})\n",
    "a['win']=0\n",
    "b=pd.read_csv('match_winner_data_version1.csv',converters={'gameId':str})\n",
    "b['win']=1\n",
    "c=a.append(b)\n",
    "c['firstBlood']=c['firstBlood'].astype('int')\n",
    "c['firstTower']=c['firstTower'].astype('int')\n",
    "c['firstInhibitor']=c['firstInhibitor'].astype('int')\n",
    "c['firstBaron']=c['firstBaron'].astype('int')\n",
    "c['firstDragon']=c['firstDragon'].astype('int')\n",
    "c['firstRiftHerald']=c['firstRiftHerald'].astype('int')\n",
    "c['win']=c['win'].astype(int)\n",
    "result = c[['win']]\n",
    "data = c[['firstBlood','firstTower','firstBaron','firstDragon','firstRiftHerald']]\n",
    "result = np.array(result).ravel()\n",
    "data = np.array(data)\n",
    "from  sklearn.ensemble  import  GradientBoostingClassifier\n",
    "from sklearn.model_selection import cross_val_score\n",
    "clf=GradientBoostingClassifier(ccp_alpha=0.0, criterion='friedman_mse', init=None,learning_rate=0.1, loss='deviance', max_depth=3,max_features=None, max_leaf_nodes=None,min_impurity_decrease=0.0, min_impurity_split=None,min_samples_leaf=1, min_samples_split=2,min_weight_fraction_leaf=0.0, n_estimators=100,n_iter_no_change=None,random_state=4330, subsample=1.0, tol=0.0001,validation_fraction=0.1, verbose=0,warm_start=False).fit(data, result)\n",
    "cross_val_score(clf,data,result,cv=5).mean()\n",
    "\n"
   ]
  },
  {
   "cell_type": "code",
   "execution_count": 3,
   "metadata": {},
   "outputs": [],
   "source": [
    "example = pd.read_csv('example_ingame_predict.csv')"
   ]
  },
  {
   "cell_type": "code",
   "execution_count": 4,
   "metadata": {},
   "outputs": [],
   "source": [
    "example = example[['predict_FirstBlood','predict_firstTower','predict_firstBaron','predict_firstDragon','predict_firstRiftHerald']]"
   ]
  },
  {
   "cell_type": "code",
   "execution_count": 5,
   "metadata": {},
   "outputs": [
    {
     "data": {
      "text/plain": [
       "array([1])"
      ]
     },
     "execution_count": 5,
     "metadata": {},
     "output_type": "execute_result"
    }
   ],
   "source": [
    "clf.predict(example)"
   ]
  },
  {
   "cell_type": "code",
   "execution_count": null,
   "metadata": {},
   "outputs": [],
   "source": []
  },
  {
   "cell_type": "code",
   "execution_count": null,
   "metadata": {},
   "outputs": [],
   "source": [
    "\n"
   ]
  },
  {
   "cell_type": "code",
   "execution_count": null,
   "metadata": {},
   "outputs": [],
   "source": []
  },
  {
   "cell_type": "code",
   "execution_count": null,
   "metadata": {},
   "outputs": [],
   "source": []
  }
 ],
 "metadata": {
  "kernelspec": {
   "display_name": "Python 3",
   "language": "python",
   "name": "python3"
  },
  "language_info": {
   "codemirror_mode": {
    "name": "ipython",
    "version": 3
   },
   "file_extension": ".py",
   "mimetype": "text/x-python",
   "name": "python",
   "nbconvert_exporter": "python",
   "pygments_lexer": "ipython3",
   "version": "3.7.6"
  }
 },
 "nbformat": 4,
 "nbformat_minor": 4
}
